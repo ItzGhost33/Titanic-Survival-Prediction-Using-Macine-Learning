{
 "cells": [
  {
   "cell_type": "code",
   "execution_count": 305,
   "id": "6cf0daaa",
   "metadata": {},
   "outputs": [],
   "source": [
    "import pandas as pd\n",
    "import numpy as np\n",
    "from sklearn import linear_model\n",
    "from sklearn.linear_model import LogisticRegression\n",
    "from sklearn.tree import DecisionTreeClassifier\n",
    "from sklearn.ensemble import RandomForestClassifier\n",
    "from sklearn.model_selection import train_test_split\n",
    "from sklearn.model_selection import GridSearchCV"
   ]
  },
  {
   "cell_type": "code",
   "execution_count": 145,
   "id": "ba7c8339",
   "metadata": {},
   "outputs": [
    {
     "data": {
      "text/html": [
       "<div>\n",
       "<style scoped>\n",
       "    .dataframe tbody tr th:only-of-type {\n",
       "        vertical-align: middle;\n",
       "    }\n",
       "\n",
       "    .dataframe tbody tr th {\n",
       "        vertical-align: top;\n",
       "    }\n",
       "\n",
       "    .dataframe thead th {\n",
       "        text-align: right;\n",
       "    }\n",
       "</style>\n",
       "<table border=\"1\" class=\"dataframe\">\n",
       "  <thead>\n",
       "    <tr style=\"text-align: right;\">\n",
       "      <th></th>\n",
       "      <th>PassengerId</th>\n",
       "      <th>Survived</th>\n",
       "      <th>Pclass</th>\n",
       "      <th>Name</th>\n",
       "      <th>Sex</th>\n",
       "      <th>Age</th>\n",
       "      <th>SibSp</th>\n",
       "      <th>Parch</th>\n",
       "      <th>Ticket</th>\n",
       "      <th>Fare</th>\n",
       "      <th>Cabin</th>\n",
       "      <th>Embarked</th>\n",
       "    </tr>\n",
       "  </thead>\n",
       "  <tbody>\n",
       "    <tr>\n",
       "      <th>0</th>\n",
       "      <td>1</td>\n",
       "      <td>0</td>\n",
       "      <td>3</td>\n",
       "      <td>Braund, Mr. Owen Harris</td>\n",
       "      <td>male</td>\n",
       "      <td>22.0</td>\n",
       "      <td>1</td>\n",
       "      <td>0</td>\n",
       "      <td>A/5 21171</td>\n",
       "      <td>7.2500</td>\n",
       "      <td>NaN</td>\n",
       "      <td>S</td>\n",
       "    </tr>\n",
       "    <tr>\n",
       "      <th>1</th>\n",
       "      <td>2</td>\n",
       "      <td>1</td>\n",
       "      <td>1</td>\n",
       "      <td>Cumings, Mrs. John Bradley (Florence Briggs Th...</td>\n",
       "      <td>female</td>\n",
       "      <td>38.0</td>\n",
       "      <td>1</td>\n",
       "      <td>0</td>\n",
       "      <td>PC 17599</td>\n",
       "      <td>71.2833</td>\n",
       "      <td>C85</td>\n",
       "      <td>C</td>\n",
       "    </tr>\n",
       "    <tr>\n",
       "      <th>2</th>\n",
       "      <td>3</td>\n",
       "      <td>1</td>\n",
       "      <td>3</td>\n",
       "      <td>Heikkinen, Miss. Laina</td>\n",
       "      <td>female</td>\n",
       "      <td>26.0</td>\n",
       "      <td>0</td>\n",
       "      <td>0</td>\n",
       "      <td>STON/O2. 3101282</td>\n",
       "      <td>7.9250</td>\n",
       "      <td>NaN</td>\n",
       "      <td>S</td>\n",
       "    </tr>\n",
       "    <tr>\n",
       "      <th>3</th>\n",
       "      <td>4</td>\n",
       "      <td>1</td>\n",
       "      <td>1</td>\n",
       "      <td>Futrelle, Mrs. Jacques Heath (Lily May Peel)</td>\n",
       "      <td>female</td>\n",
       "      <td>35.0</td>\n",
       "      <td>1</td>\n",
       "      <td>0</td>\n",
       "      <td>113803</td>\n",
       "      <td>53.1000</td>\n",
       "      <td>C123</td>\n",
       "      <td>S</td>\n",
       "    </tr>\n",
       "    <tr>\n",
       "      <th>4</th>\n",
       "      <td>5</td>\n",
       "      <td>0</td>\n",
       "      <td>3</td>\n",
       "      <td>Allen, Mr. William Henry</td>\n",
       "      <td>male</td>\n",
       "      <td>35.0</td>\n",
       "      <td>0</td>\n",
       "      <td>0</td>\n",
       "      <td>373450</td>\n",
       "      <td>8.0500</td>\n",
       "      <td>NaN</td>\n",
       "      <td>S</td>\n",
       "    </tr>\n",
       "  </tbody>\n",
       "</table>\n",
       "</div>"
      ],
      "text/plain": [
       "   PassengerId  Survived  Pclass  \\\n",
       "0            1         0       3   \n",
       "1            2         1       1   \n",
       "2            3         1       3   \n",
       "3            4         1       1   \n",
       "4            5         0       3   \n",
       "\n",
       "                                                Name     Sex   Age  SibSp  \\\n",
       "0                            Braund, Mr. Owen Harris    male  22.0      1   \n",
       "1  Cumings, Mrs. John Bradley (Florence Briggs Th...  female  38.0      1   \n",
       "2                             Heikkinen, Miss. Laina  female  26.0      0   \n",
       "3       Futrelle, Mrs. Jacques Heath (Lily May Peel)  female  35.0      1   \n",
       "4                           Allen, Mr. William Henry    male  35.0      0   \n",
       "\n",
       "   Parch            Ticket     Fare Cabin Embarked  \n",
       "0      0         A/5 21171   7.2500   NaN        S  \n",
       "1      0          PC 17599  71.2833   C85        C  \n",
       "2      0  STON/O2. 3101282   7.9250   NaN        S  \n",
       "3      0            113803  53.1000  C123        S  \n",
       "4      0            373450   8.0500   NaN        S  "
      ]
     },
     "execution_count": 145,
     "metadata": {},
     "output_type": "execute_result"
    }
   ],
   "source": [
    "#getting train and test data\n",
    "df = pd.read_csv(\"train.csv\")\n",
    "tst = pd.read_csv('test.csv')\n",
    "\n",
    "df.head()\n",
    "\n"
   ]
  },
  {
   "cell_type": "code",
   "execution_count": 146,
   "id": "105620bb",
   "metadata": {},
   "outputs": [
    {
     "data": {
      "text/plain": [
       "PassengerId      0\n",
       "Survived         0\n",
       "Pclass           0\n",
       "Name             0\n",
       "Sex              0\n",
       "Age            177\n",
       "SibSp            0\n",
       "Parch            0\n",
       "Ticket           0\n",
       "Fare             0\n",
       "Cabin          687\n",
       "Embarked         2\n",
       "dtype: int64"
      ]
     },
     "execution_count": 146,
     "metadata": {},
     "output_type": "execute_result"
    }
   ],
   "source": [
    "#chcecking for missed values\n",
    "df.isnull().sum()"
   ]
  },
  {
   "cell_type": "code",
   "execution_count": 147,
   "id": "aa8c3d88",
   "metadata": {},
   "outputs": [],
   "source": [
    "#creating a new feature called deck using cabin feature\n",
    "import re         #regular expression librabry to do .map()\n",
    "deck = {\"A\":1,\"B\":2,\"C\":3,\"D\":4,\"E\":5,\"F\":6,\"G\":7,\"U\":8}\n",
    "data = [df,tst]\n",
    "\n",
    "for dataset in data:\n",
    "    dataset['Cabin'] = dataset['Cabin'].fillna(\"U0\")\n",
    "    #creating the new column wherever there is a letter in it\n",
    "    dataset['Deck'] = dataset['Cabin'].map(lambda x: re.compile(\"([a-zA-Z]+)\").search(x).group())\n",
    "    #mapping according to deck\n",
    "    dataset['Deck'] = dataset['Deck'].map(deck)\n",
    "    \n",
    "    dataset['Deck'] = dataset['Deck'].fillna(0)\n",
    "    dataset['Deck'] = dataset['Deck'].astype(int)\n",
    "    \n",
    " "
   ]
  },
  {
   "cell_type": "code",
   "execution_count": 148,
   "id": "71c089d5",
   "metadata": {},
   "outputs": [],
   "source": [
    "#dropping the cabin column \n",
    "df = df.drop([\"Cabin\"],axis = 1)\n",
    "tst = tst.drop([\"Cabin\"],axis = 1)"
   ]
  },
  {
   "cell_type": "code",
   "execution_count": 149,
   "id": "ee12d36d",
   "metadata": {},
   "outputs": [
    {
     "data": {
      "text/plain": [
       "0"
      ]
     },
     "execution_count": 149,
     "metadata": {},
     "output_type": "execute_result"
    }
   ],
   "source": [
    "#filling the age feature's missing value\n",
    "data = [df,tst]\n",
    "for i in data:\n",
    "    mean = df[\"Age\"].mean()\n",
    "    std = df[\"Age\"].std()\n",
    "    is_null = i[\"Age\"].isnull().sum()\n",
    "    # compute random numbers between the mean, std and is_null\n",
    "    rand_age = np.random.randint(mean - std, mean + std, size = is_null)\n",
    "    # fill NaN values in Age column with random values\n",
    "    age_slice = i[\"Age\"].copy()\n",
    "    age_slice[np.isnan(age_slice)] = rand_age\n",
    "    i[\"Age\"] = age_slice\n",
    "    i[\"Age\"] = i[\"Age\"].astype(int)\n",
    "df[\"Age\"].isnull().sum()  #no null values in Age column\n"
   ]
  },
  {
   "cell_type": "code",
   "execution_count": 150,
   "id": "3aac9141",
   "metadata": {},
   "outputs": [
    {
     "data": {
      "text/plain": [
       "count     889\n",
       "unique      3\n",
       "top         S\n",
       "freq      644\n",
       "Name: Embarked, dtype: object"
      ]
     },
     "execution_count": 150,
     "metadata": {},
     "output_type": "execute_result"
    }
   ],
   "source": [
    "#About embarked column \n",
    "df[\"Embarked\"].describe()"
   ]
  },
  {
   "cell_type": "code",
   "execution_count": 151,
   "id": "52efc26a",
   "metadata": {},
   "outputs": [
    {
     "name": "stdout",
     "output_type": "stream",
     "text": [
      "<class 'pandas.core.frame.DataFrame'>\n",
      "RangeIndex: 891 entries, 0 to 890\n",
      "Data columns (total 12 columns):\n",
      " #   Column       Non-Null Count  Dtype \n",
      "---  ------       --------------  ----- \n",
      " 0   PassengerId  891 non-null    int64 \n",
      " 1   Survived     891 non-null    int64 \n",
      " 2   Pclass       891 non-null    int64 \n",
      " 3   Name         891 non-null    object\n",
      " 4   Sex          891 non-null    object\n",
      " 5   Age          891 non-null    int32 \n",
      " 6   SibSp        891 non-null    int64 \n",
      " 7   Parch        891 non-null    int64 \n",
      " 8   Ticket       891 non-null    object\n",
      " 9   Fare         891 non-null    int32 \n",
      " 10  Embarked     891 non-null    object\n",
      " 11  Deck         891 non-null    int32 \n",
      "dtypes: int32(3), int64(5), object(4)\n",
      "memory usage: 73.2+ KB\n"
     ]
    }
   ],
   "source": [
    "#filling the null values with most occuring\n",
    "data = [df,tst]\n",
    "\n",
    "for i in data:\n",
    "    i[\"Embarked\"] = i[\"Embarked\"].fillna(\"S\")\n",
    "    #changeing fare data type to int\n",
    "    i[\"Fare\"] = i[\"Fare\"].fillna(0)\n",
    "    i[\"Fare\"] = i[\"Fare\"].astype(int)\n",
    "    \n",
    "    \n",
    "df.info()"
   ]
  },
  {
   "cell_type": "code",
   "execution_count": 152,
   "id": "e7df7c60",
   "metadata": {},
   "outputs": [],
   "source": [
    "#changing name column into numaric value\n",
    "data = [df,tst]\n",
    "title = {\"Mr\": 1, \"Miss\": 2, \"Mrs\": 3, \"Master\": 4, \"Others\": 5}\n",
    "\n",
    "\n",
    "for i in data:\n",
    "        # extract titles\n",
    "        i['Title'] = i.Name.str.extract(' ([A-Za-z]+)\\.', expand=False)\n",
    "        # replace titles with a more common title or as others\n",
    "        i['Title'] = i['Title'].replace(['Lady', 'Countess','Capt', 'Col','Don', 'Dr','Major', 'Rev', 'Sir', 'Jonkheer', 'Dona'], 'Others')\n",
    "        \n",
    "        \n",
    "        i['Title'] = i['Title'].replace('Mlle', 'Miss')\n",
    "        i['Title'] = i['Title'].replace('Ms', 'Miss')\n",
    "        i['Title'] = i['Title'].replace('Mme', 'Mrs')\n",
    "        # convert titles into numbers\n",
    "        i['Title'] = i['Title'].map(title)\n",
    "        # filling NaN with 0\n",
    "        i['Title'] = i['Title'].fillna(0)\n",
    "        \n",
    "#dropping name feature\n",
    "df = df.drop(['Name'], axis=1)\n",
    "tst = tst.drop(['Name'], axis=1)\n",
    "    \n",
    " "
   ]
  },
  {
   "cell_type": "code",
   "execution_count": 153,
   "id": "b65c4131",
   "metadata": {},
   "outputs": [
    {
     "data": {
      "text/plain": [
       "0      0\n",
       "1      1\n",
       "2      1\n",
       "3      1\n",
       "4      0\n",
       "      ..\n",
       "886    0\n",
       "887    1\n",
       "888    1\n",
       "889    0\n",
       "890    0\n",
       "Name: Sex, Length: 891, dtype: int64"
      ]
     },
     "execution_count": 153,
     "metadata": {},
     "output_type": "execute_result"
    }
   ],
   "source": [
    "#sex and embarked into numbers \n",
    "data = [df,tst]\n",
    "s = {\"male\" : 0,\"female\" : 1}\n",
    "e = {\"S\": 0, \"C\": 1, \"Q\": 2}\n",
    "\n",
    "for i in data:\n",
    "    i[\"Sex\"] = i[\"Sex\"].map(s)\n",
    "    i[\"Embarked\"] = i[\"Embarked\"].map(e)\n",
    "    \n",
    "df[\"Sex\"]"
   ]
  },
  {
   "cell_type": "code",
   "execution_count": 154,
   "id": "6f864fb1",
   "metadata": {},
   "outputs": [],
   "source": [
    "#dropping ticket\n",
    "\n",
    "df = df.drop([\"Ticket\"],axis =1)\n",
    "tst = tst.drop([\"Ticket\"],axis = 1)\n",
    "\n"
   ]
  },
  {
   "cell_type": "code",
   "execution_count": 163,
   "id": "e6513f9b",
   "metadata": {},
   "outputs": [
    {
     "name": "stdout",
     "output_type": "stream",
     "text": [
      "count    891.000000\n",
      "mean      29.468013\n",
      "std       13.497142\n",
      "min        0.000000\n",
      "25%       21.000000\n",
      "50%       28.000000\n",
      "75%       37.000000\n",
      "max       80.000000\n",
      "Name: Age, dtype: float64\n",
      "a    129\n",
      "b    116\n",
      "d    115\n",
      "f    115\n",
      "g    114\n",
      "e    108\n",
      "h    101\n",
      "c     93\n",
      "Name: Age, dtype: int64\n"
     ]
    }
   ],
   "source": [
    "print(df[\"Age\"].describe())\n",
    "lbl = pd.qcut(df['Age'], q=8, labels=['a', 'b', 'c','d','e','f','g','h'])\n",
    "print(lbl.value_counts())"
   ]
  },
  {
   "cell_type": "code",
   "execution_count": 167,
   "id": "1064b652",
   "metadata": {},
   "outputs": [
    {
     "name": "stdout",
     "output_type": "stream",
     "text": [
      "4    162\n",
      "6    155\n",
      "5    145\n",
      "3    143\n",
      "2    117\n",
      "1     94\n",
      "0     68\n",
      "7      7\n",
      "Name: Age, dtype: int64\n",
      "<class 'pandas.core.frame.DataFrame'>\n",
      "RangeIndex: 891 entries, 0 to 890\n",
      "Data columns (total 11 columns):\n",
      " #   Column       Non-Null Count  Dtype\n",
      "---  ------       --------------  -----\n",
      " 0   PassengerId  891 non-null    int64\n",
      " 1   Survived     891 non-null    int64\n",
      " 2   Pclass       891 non-null    int64\n",
      " 3   Sex          891 non-null    int64\n",
      " 4   Age          891 non-null    int32\n",
      " 5   SibSp        891 non-null    int64\n",
      " 6   Parch        891 non-null    int64\n",
      " 7   Fare         891 non-null    int32\n",
      " 8   Embarked     891 non-null    int64\n",
      " 9   Deck         891 non-null    int32\n",
      " 10  Title        891 non-null    int64\n",
      "dtypes: int32(3), int64(8)\n",
      "memory usage: 66.3 KB\n"
     ]
    }
   ],
   "source": [
    "#grouping age catagory\n",
    "\n",
    "data = [df, tst]\n",
    "for i in data:\n",
    "    i['Age'] = i['Age'].astype(int)\n",
    "    i.loc[ i['Age'] <= 11, 'Age'] = 0  #df.loc[row_labels, column_labels]     The .loc function is a way to subset rows and columns of a Pandas DataFrame by label-based indexin\n",
    "    i.loc[(i['Age'] > 11) & (i['Age'] <= 18), 'Age'] = 1   # sets the values of the 'Age' column to 1 for all rows where the 'Age' value is greater than 11 and less than or equal to 18.\n",
    "    i.loc[(i['Age'] > 18) & (i['Age'] <= 22), 'Age'] = 2\n",
    "    i.loc[(i['Age'] > 22) & (i['Age'] <= 27), 'Age'] = 3\n",
    "    i.loc[(i['Age'] > 27) & (i['Age'] <= 33), 'Age'] = 4\n",
    "    i.loc[(i['Age'] > 33) & (i['Age'] <= 40), 'Age'] = 5\n",
    "    i.loc[(i['Age'] > 40) & (i['Age'] <= 66), 'Age'] = 6\n",
    "    i.loc[ i['Age'] > 66, 'Age'] = 7\n",
    "    \n",
    "print( df[\"Age\"].value_counts())\n",
    "\n",
    "\n",
    "df.info()"
   ]
  },
  {
   "cell_type": "code",
   "execution_count": 166,
   "id": "c330ad79",
   "metadata": {},
   "outputs": [
    {
     "name": "stdout",
     "output_type": "stream",
     "text": [
      "count    891.000000\n",
      "mean      31.785634\n",
      "std       49.703730\n",
      "min        0.000000\n",
      "25%        7.000000\n",
      "50%       14.000000\n",
      "75%       31.000000\n",
      "max      512.000000\n",
      "Name: Fare, dtype: float64\n",
      "a    241\n",
      "d    165\n",
      "c    146\n",
      "f    146\n",
      "e    123\n",
      "b     70\n",
      "Name: Fare, dtype: int64\n"
     ]
    }
   ],
   "source": [
    "print(df[\"Fare\"].describe())\n",
    "lbl = pd.qcut(df['Fare'], q=6, labels=['a', 'b', 'c','d','e','f'])\n",
    "print(lbl.value_counts())"
   ]
  },
  {
   "cell_type": "code",
   "execution_count": 168,
   "id": "39b3fe3e",
   "metadata": {},
   "outputs": [],
   "source": [
    "#catogorizing fare values\n",
    "\n",
    "data = [df, tst]\n",
    "\n",
    "for i in data:\n",
    "    i.loc[ i['Fare'] <= 8.0, 'Fare'] = 0\n",
    "    i.loc[(i['Fare'] > 8.0) & (i['Fare'] <= 14.5), 'Fare'] = 1\n",
    "    i.loc[(i['Fare'] > 14.5) & (i['Fare'] <= 31), 'Fare']   = 2\n",
    "    i.loc[(i['Fare'] > 31) & (i['Fare'] <= 99), 'Fare']   = 3\n",
    "    i.loc[(i['Fare'] > 99) & (i['Fare'] <= 250), 'Fare']   = 4\n",
    "    i.loc[ i['Fare'] > 250, 'Fare'] = 5\n",
    "    i['Fare'] = i['Fare'].astype(int)"
   ]
  },
  {
   "cell_type": "code",
   "execution_count": 179,
   "id": "de76aed7",
   "metadata": {},
   "outputs": [
    {
     "data": {
      "text/html": [
       "<div>\n",
       "<style scoped>\n",
       "    .dataframe tbody tr th:only-of-type {\n",
       "        vertical-align: middle;\n",
       "    }\n",
       "\n",
       "    .dataframe tbody tr th {\n",
       "        vertical-align: top;\n",
       "    }\n",
       "\n",
       "    .dataframe thead th {\n",
       "        text-align: right;\n",
       "    }\n",
       "</style>\n",
       "<table border=\"1\" class=\"dataframe\">\n",
       "  <thead>\n",
       "    <tr style=\"text-align: right;\">\n",
       "      <th></th>\n",
       "      <th>PassengerId</th>\n",
       "      <th>Survived</th>\n",
       "      <th>Pclass</th>\n",
       "      <th>Sex</th>\n",
       "      <th>Age</th>\n",
       "      <th>SibSp</th>\n",
       "      <th>Parch</th>\n",
       "      <th>Fare</th>\n",
       "      <th>Embarked</th>\n",
       "      <th>Deck</th>\n",
       "      <th>Title</th>\n",
       "      <th>Age_Class</th>\n",
       "      <th>Age_class</th>\n",
       "      <th>Fare_Per_Person</th>\n",
       "    </tr>\n",
       "  </thead>\n",
       "  <tbody>\n",
       "    <tr>\n",
       "      <th>0</th>\n",
       "      <td>1</td>\n",
       "      <td>0</td>\n",
       "      <td>3</td>\n",
       "      <td>0</td>\n",
       "      <td>2</td>\n",
       "      <td>1</td>\n",
       "      <td>0</td>\n",
       "      <td>0</td>\n",
       "      <td>0</td>\n",
       "      <td>8</td>\n",
       "      <td>1</td>\n",
       "      <td>6</td>\n",
       "      <td>6</td>\n",
       "      <td>0</td>\n",
       "    </tr>\n",
       "    <tr>\n",
       "      <th>1</th>\n",
       "      <td>2</td>\n",
       "      <td>1</td>\n",
       "      <td>1</td>\n",
       "      <td>1</td>\n",
       "      <td>5</td>\n",
       "      <td>1</td>\n",
       "      <td>0</td>\n",
       "      <td>3</td>\n",
       "      <td>1</td>\n",
       "      <td>3</td>\n",
       "      <td>3</td>\n",
       "      <td>5</td>\n",
       "      <td>5</td>\n",
       "      <td>1</td>\n",
       "    </tr>\n",
       "    <tr>\n",
       "      <th>2</th>\n",
       "      <td>3</td>\n",
       "      <td>1</td>\n",
       "      <td>3</td>\n",
       "      <td>1</td>\n",
       "      <td>3</td>\n",
       "      <td>0</td>\n",
       "      <td>0</td>\n",
       "      <td>0</td>\n",
       "      <td>0</td>\n",
       "      <td>8</td>\n",
       "      <td>2</td>\n",
       "      <td>9</td>\n",
       "      <td>9</td>\n",
       "      <td>0</td>\n",
       "    </tr>\n",
       "    <tr>\n",
       "      <th>3</th>\n",
       "      <td>4</td>\n",
       "      <td>1</td>\n",
       "      <td>1</td>\n",
       "      <td>1</td>\n",
       "      <td>5</td>\n",
       "      <td>1</td>\n",
       "      <td>0</td>\n",
       "      <td>3</td>\n",
       "      <td>0</td>\n",
       "      <td>3</td>\n",
       "      <td>3</td>\n",
       "      <td>5</td>\n",
       "      <td>5</td>\n",
       "      <td>1</td>\n",
       "    </tr>\n",
       "    <tr>\n",
       "      <th>4</th>\n",
       "      <td>5</td>\n",
       "      <td>0</td>\n",
       "      <td>3</td>\n",
       "      <td>0</td>\n",
       "      <td>5</td>\n",
       "      <td>0</td>\n",
       "      <td>0</td>\n",
       "      <td>0</td>\n",
       "      <td>0</td>\n",
       "      <td>8</td>\n",
       "      <td>1</td>\n",
       "      <td>15</td>\n",
       "      <td>15</td>\n",
       "      <td>0</td>\n",
       "    </tr>\n",
       "  </tbody>\n",
       "</table>\n",
       "</div>"
      ],
      "text/plain": [
       "   PassengerId  Survived  Pclass  Sex  Age  SibSp  Parch  Fare  Embarked  \\\n",
       "0            1         0       3    0    2      1      0     0         0   \n",
       "1            2         1       1    1    5      1      0     3         1   \n",
       "2            3         1       3    1    3      0      0     0         0   \n",
       "3            4         1       1    1    5      1      0     3         0   \n",
       "4            5         0       3    0    5      0      0     0         0   \n",
       "\n",
       "   Deck  Title  Age_Class  Age_class  Fare_Per_Person  \n",
       "0     8      1          6          6                0  \n",
       "1     3      3          5          5                1  \n",
       "2     8      2          9          9                0  \n",
       "3     3      3          5          5                1  \n",
       "4     8      1         15         15                0  "
      ]
     },
     "execution_count": 179,
     "metadata": {},
     "output_type": "execute_result"
    }
   ],
   "source": [
    "df.head()\n"
   ]
  },
  {
   "cell_type": "code",
   "execution_count": 170,
   "id": "bf911371",
   "metadata": {},
   "outputs": [
    {
     "data": {
      "text/plain": [
       "0       6\n",
       "1       5\n",
       "2       9\n",
       "3       5\n",
       "4      15\n",
       "       ..\n",
       "886     6\n",
       "887     2\n",
       "888    15\n",
       "889     3\n",
       "890    12\n",
       "Name: Age_class, Length: 891, dtype: int64"
      ]
     },
     "execution_count": 170,
     "metadata": {},
     "output_type": "execute_result"
    }
   ],
   "source": [
    "#creating a new feature   Age*Class\n",
    "data = [df, tst]\n",
    "for i in data:\n",
    "    i['Age_class']= i['Age']* i['Pclass']\n",
    "    \n",
    "df[\"Age_class\"]"
   ]
  },
  {
   "cell_type": "code",
   "execution_count": 174,
   "id": "076e786b",
   "metadata": {},
   "outputs": [],
   "source": [
    "#creating a new feature    Fare/Person\n",
    "\n",
    "for i in data:\n",
    "    i['Fare_Per_Person'] = i['Fare']/(i['SibSp']+1)\n",
    "    i['Fare_Per_Person'] = i['Fare_Per_Person'].astype(int)\n"
   ]
  },
  {
   "cell_type": "code",
   "execution_count": 181,
   "id": "9d77c3cc",
   "metadata": {},
   "outputs": [
    {
     "name": "stdout",
     "output_type": "stream",
     "text": [
      "   PassengerId  Survived  Pclass  Sex  Age  SibSp  Parch  Fare  Embarked  \\\n",
      "0            1         0       3    0    2      1      0     0         0   \n",
      "1            2         1       1    1    5      1      0     3         1   \n",
      "2            3         1       3    1    3      0      0     0         0   \n",
      "3            4         1       1    1    5      1      0     3         0   \n",
      "4            5         0       3    0    5      0      0     0         0   \n",
      "5            6         0       3    0    3      0      0     0         2   \n",
      "6            7         0       1    0    6      0      0     3         0   \n",
      "7            8         0       3    0    0      3      1     2         0   \n",
      "8            9         1       3    1    3      0      2     1         0   \n",
      "9           10         1       2    1    1      1      0     2         1   \n",
      "\n",
      "   Deck  Title  Age_Class  Age_class  Fare_Per_Person  \n",
      "0     8      1          6          6                0  \n",
      "1     3      3          5          5                1  \n",
      "2     8      2          9          9                0  \n",
      "3     3      3          5          5                1  \n",
      "4     8      1         15         15                0  \n",
      "5     8      1          9          9                0  \n",
      "6     5      1          6          6                3  \n",
      "7     8      4          0          0                0  \n",
      "8     8      3          9          9                1  \n",
      "9     8      3          2          2                1  \n",
      "   PassengerId  Pclass  Sex  Age  SibSp  Parch  Fare  Embarked  Deck  Title  \\\n",
      "0          892       3    0    5      0      0     0         2     8      1   \n",
      "1          893       3    1    6      1      0     0         0     8      3   \n",
      "2          894       2    0    6      0      0     1         2     8      1   \n",
      "3          895       3    0    3      0      0     0         0     8      1   \n",
      "4          896       3    1    2      1      1     1         0     8      3   \n",
      "5          897       3    0    1      0      0     1         0     8      1   \n",
      "6          898       3    1    4      0      0     0         2     8      2   \n",
      "7          899       2    0    3      1      1     2         0     8      1   \n",
      "8          900       3    1    1      0      0     0         1     8      3   \n",
      "9          901       3    0    2      2      0     2         0     8      1   \n",
      "\n",
      "   Age_Class  Age_class  Fare_Per_Person  \n",
      "0         15         15                0  \n",
      "1         18         18                0  \n",
      "2         12         12                1  \n",
      "3          9          9                0  \n",
      "4          6          6                0  \n",
      "5          3          3                1  \n",
      "6         12         12                0  \n",
      "7          6          6                1  \n",
      "8          3          3                0  \n",
      "9          6          6                0  \n"
     ]
    }
   ],
   "source": [
    "# Let's take a last look at the training set, before we start training the models.\n",
    "print(df.head(10))\n",
    "print(tst.head(10))"
   ]
  },
  {
   "cell_type": "code",
   "execution_count": 331,
   "id": "6c97b720",
   "metadata": {},
   "outputs": [],
   "source": [
    "#train test split\n",
    "x = df.drop(columns=[\"Survived\",\"PassengerId\",\"Parch\",\"Age\"], axis=1)  #Parch,Age are removed because it has low feature importance\n",
    "y = df[\"Survived\"]\n",
    "\n",
    "\n",
    "X_train, X_test, Y_train, Y_test = train_test_split(x, y, test_size = 0.20, random_state = 25)\n"
   ]
  },
  {
   "cell_type": "code",
   "execution_count": 332,
   "id": "28ce9025",
   "metadata": {},
   "outputs": [],
   "source": [
    "#using logistic regression\n",
    "model = LogisticRegression()\n",
    "model.fit(X_train,Y_train)\n",
    "\n",
    "Y_pred = model.predict(X_test)\n",
    "\n",
    "acc_log = round(model.score(X_train, Y_train) * 100, 3)"
   ]
  },
  {
   "cell_type": "code",
   "execution_count": 333,
   "id": "91b0295a",
   "metadata": {},
   "outputs": [],
   "source": [
    "#using decision tree\n",
    "\n",
    "dt = DecisionTreeClassifier() \n",
    "dt.fit(X_train, Y_train)  \n",
    "Y_pred = dt.predict(X_test)  \n",
    "acc_decision_tree = round(dt.score(X_train, Y_train) * 100, 3)"
   ]
  },
  {
   "cell_type": "code",
   "execution_count": 334,
   "id": "8c8154c8",
   "metadata": {},
   "outputs": [
    {
     "name": "stdout",
     "output_type": "stream",
     "text": [
      "[0 0 0 1 0 1 0 0 1 0 1 0 0 0 0 1 1 1 1 1 1 1 0 0 0 0 0 1 0 0 0 1 1 1 0 1 0\n",
      " 0 1 0 1 0 1 0 0 1 0 1 0 1 1 1 0 0 1 1 0 0 0 0 1 1 0 0 0 1 0 1 0 0 0 1 1 0\n",
      " 0 0 0 0 0 0 0 1 0 0 0 0 0 0 0 1 0 1 0 0 0 0 0 1 1 1 0 0 1 1 1 1 1 0 0 1 1\n",
      " 0 1 0 0 0 1 1 1 0 0 1 0 0 1 0 0 0 0 0 1 0 1 0 1 0 0 0 0 1 0 0 0 1 0 0 1 0\n",
      " 0 0 0 0 0 1 1 1 0 0 0 0 1 0 0 0 1 0 0 0 0 1 1 0 0 0 0 0 1 0 0]\n"
     ]
    }
   ],
   "source": [
    "#using random forest \n",
    "\n",
    "rf = RandomForestClassifier(n_estimators=100)\n",
    "rf.fit(X_train, Y_train)\n",
    "\n",
    "Y_pred = rf.predict(X_test)\n",
    "\n",
    "acc_random_forest = round(rf.score(X_train, Y_train) * 100, 3)\n",
    "\n",
    "print(Y_pred)"
   ]
  },
  {
   "cell_type": "code",
   "execution_count": 335,
   "id": "b6ce04e4",
   "metadata": {},
   "outputs": [
    {
     "name": "stdout",
     "output_type": "stream",
     "text": [
      "Accuracy for Logistic Regression model is = 81.461 %\n",
      "Accuracy for Decision Tree model is = 92.837 %\n",
      "Accuracy for Random forest model is = 92.837 %\n"
     ]
    }
   ],
   "source": [
    "print(f\"Accuracy for Logistic Regression model is = {acc_log} %\")\n",
    "print(f\"Accuracy for Decision Tree model is = {acc_decision_tree} %\")\n",
    "print(f\"Accuracy for Random forest model is = {acc_random_forest} %\")"
   ]
  },
  {
   "cell_type": "code",
   "execution_count": 337,
   "id": "acd7552a",
   "metadata": {},
   "outputs": [
    {
     "data": {
      "text/html": [
       "<div>\n",
       "<style scoped>\n",
       "    .dataframe tbody tr th:only-of-type {\n",
       "        vertical-align: middle;\n",
       "    }\n",
       "\n",
       "    .dataframe tbody tr th {\n",
       "        vertical-align: top;\n",
       "    }\n",
       "\n",
       "    .dataframe thead th {\n",
       "        text-align: right;\n",
       "    }\n",
       "</style>\n",
       "<table border=\"1\" class=\"dataframe\">\n",
       "  <thead>\n",
       "    <tr style=\"text-align: right;\">\n",
       "      <th></th>\n",
       "      <th>feature name</th>\n",
       "      <th>importances</th>\n",
       "    </tr>\n",
       "  </thead>\n",
       "  <tbody>\n",
       "    <tr>\n",
       "      <th>0</th>\n",
       "      <td>Pclass</td>\n",
       "      <td>0.074284</td>\n",
       "    </tr>\n",
       "    <tr>\n",
       "      <th>1</th>\n",
       "      <td>Sex</td>\n",
       "      <td>0.178767</td>\n",
       "    </tr>\n",
       "    <tr>\n",
       "      <th>2</th>\n",
       "      <td>SibSp</td>\n",
       "      <td>0.071147</td>\n",
       "    </tr>\n",
       "    <tr>\n",
       "      <th>3</th>\n",
       "      <td>Fare</td>\n",
       "      <td>0.072379</td>\n",
       "    </tr>\n",
       "    <tr>\n",
       "      <th>4</th>\n",
       "      <td>Embarked</td>\n",
       "      <td>0.064412</td>\n",
       "    </tr>\n",
       "    <tr>\n",
       "      <th>5</th>\n",
       "      <td>Deck</td>\n",
       "      <td>0.081238</td>\n",
       "    </tr>\n",
       "    <tr>\n",
       "      <th>6</th>\n",
       "      <td>Title</td>\n",
       "      <td>0.206255</td>\n",
       "    </tr>\n",
       "    <tr>\n",
       "      <th>7</th>\n",
       "      <td>Age_Class</td>\n",
       "      <td>0.092909</td>\n",
       "    </tr>\n",
       "    <tr>\n",
       "      <th>8</th>\n",
       "      <td>Age_class</td>\n",
       "      <td>0.089159</td>\n",
       "    </tr>\n",
       "    <tr>\n",
       "      <th>9</th>\n",
       "      <td>Fare_Per_Person</td>\n",
       "      <td>0.069450</td>\n",
       "    </tr>\n",
       "  </tbody>\n",
       "</table>\n",
       "</div>"
      ],
      "text/plain": [
       "      feature name  importances\n",
       "0           Pclass     0.074284\n",
       "1              Sex     0.178767\n",
       "2            SibSp     0.071147\n",
       "3             Fare     0.072379\n",
       "4         Embarked     0.064412\n",
       "5             Deck     0.081238\n",
       "6            Title     0.206255\n",
       "7        Age_Class     0.092909\n",
       "8        Age_class     0.089159\n",
       "9  Fare_Per_Person     0.069450"
      ]
     },
     "execution_count": 337,
     "metadata": {},
     "output_type": "execute_result"
    }
   ],
   "source": [
    "#finding feature importance to make the model less over fitting\n",
    "importances = pd.DataFrame({\"feature name\":x.columns,\"importances\":(rf.feature_importances_)})\n",
    "\n",
    "importances.head(30)\n",
    "\n"
   ]
  },
  {
   "cell_type": "code",
   "execution_count": null,
   "id": "bc47beb4",
   "metadata": {},
   "outputs": [],
   "source": []
  }
 ],
 "metadata": {
  "kernelspec": {
   "display_name": "Python 3 (ipykernel)",
   "language": "python",
   "name": "python3"
  },
  "language_info": {
   "codemirror_mode": {
    "name": "ipython",
    "version": 3
   },
   "file_extension": ".py",
   "mimetype": "text/x-python",
   "name": "python",
   "nbconvert_exporter": "python",
   "pygments_lexer": "ipython3",
   "version": "3.9.13"
  }
 },
 "nbformat": 4,
 "nbformat_minor": 5
}
